{
 "cells": [
  {
   "cell_type": "code",
   "execution_count": 1,
   "id": "0d4d5f3a",
   "metadata": {},
   "outputs": [],
   "source": [
    "import numpy as np\n",
    "from numpy.linalg import det, inv, svd, norm\n",
    "import matplotlib.pyplot as plt"
   ]
  },
  {
   "cell_type": "code",
   "execution_count": 2,
   "id": "14b103a7",
   "metadata": {},
   "outputs": [],
   "source": [
    "def rect_integral(time_steps, f, args):\n",
    "    I = 0\n",
    "    for i in range(len(time_steps)-1):\n",
    "        I += (time_steps[i+1] - time_steps[i]) * f((time_steps[i] + time_steps[i+1]) / 2, args)\n",
    "    return I\n",
    "\n",
    "\n",
    "def trap_integral(time_steps, f, args):\n",
    "    I = 0\n",
    "    for i in range(len(time_steps)-1):\n",
    "        I += (time_steps[i+1] - time_steps[i]) * (f(time_steps[i], args) + f(time_steps[i+1], args)) / 2\n",
    "    return I\n",
    "\n",
    "\n",
    "def find_ind(arr, el):\n",
    "    arr = np.array(arr)\n",
    "    i = np.abs(arr - el).argmin()\n",
    "    return i\n",
    "\n",
    "def euler(time_steps, y0, system, params):\n",
    "    ys = [y0]\n",
    "    for t in range(len(time_steps)-1):\n",
    "        dt = time_steps[t+1]-time_steps[t]\n",
    "        t0 = time_steps[t]\n",
    "        y0 = y0 + dt * system(t0, y0, params)\n",
    "        ys.append(y0)\n",
    "    return np.array(ys)\n",
    "\n",
    "def runge_kutta(time_steps, y0, system, params):\n",
    "    ys = [y0]\n",
    "    for t in range(len(time_steps)-1):\n",
    "        dt = time_steps[t+1]-time_steps[t]\n",
    "        t0 = time_steps[t]\n",
    "        t1 = time_steps[t+1]\n",
    "        k1 = system(t0, y0, params)\n",
    "        k2 = system(t0 + dt/2, y0 + dt / 2 * k1, params)\n",
    "        k3 = system(t0 + dt/2, y0 + dt / 2 * k2, params)\n",
    "        k4 = system(t1, y0 + dt * k3, params)\n",
    "        y0  = y0 + dt / 6 * (k1 + 2 * k2 + 2 * k3 + k4)\n",
    "        ys.append(y0)\n",
    "    return np.array(ys)"
   ]
  },
  {
   "cell_type": "code",
   "execution_count": 19,
   "id": "ef108464",
   "metadata": {},
   "outputs": [],
   "source": [
    "def shooting(time_steps, y_approx, system, params, bc, bc_params, solver=euler, prec=10**(-4)):\n",
    "    '''\n",
    "    Parameters\n",
    "    ----------\n",
    "    time_steps : array of floats\n",
    "        integration steps.\n",
    "    y_approx : array of floats\n",
    "        vector of initial approximation.\n",
    "    system : function of type dy = f(t, y, params)\n",
    "        system of differential equations.\n",
    "    params : array\n",
    "        additional parameters that are passed to system function\n",
    "    bc : function of type f(ys, params)\n",
    "        calculates residuals;\n",
    "        it accepts calculated values of unkown functions and extra parameters.\n",
    "    bc_params : array\n",
    "        additional parameters that are passed to boundary condition function.\n",
    "    solver : function, optional\n",
    "        solver for initial value problem of ODEs. The default is runge_kutta.\n",
    "    '''\n",
    "    eps = 10**(-4)\n",
    "    t_left = time_steps[len(time_steps)//2::-1]\n",
    "    t_right = time_steps[len(time_steps)//2:]\n",
    "\n",
    "    newton_steps = 0\n",
    "    F = np.zeros(len(y_approx)*len(y_approx)).reshape(len(y_approx), len(y_approx))\n",
    "\n",
    "    while(True):\n",
    "        print(\"Step \", newton_steps)\n",
    "        \n",
    "        ys = np.concatenate((solver(t_left, y_approx, system, params)[::-1],\n",
    "                             solver(t_right, y_approx, system, params)[1:]))\n",
    "        \n",
    "        rs = bc(ys, bc_params)\n",
    "        print(rs)\n",
    "        if (np.abs(rs) < prec).all():\n",
    "            break\n",
    "        \n",
    "        F = np.zeros(len(y_approx)*len(y_approx)).reshape(len(y_approx), len(y_approx))\n",
    "        for i in range(len(y_approx)):\n",
    "            yi_approx = y_approx.copy()\n",
    "            yi_approx[i] += eps\n",
    "            \n",
    "            yis = np.concatenate((solver(t_left, yi_approx, system, params)[::-1],\n",
    "                                  solver(t_right, yi_approx, system, params)[1:]))\n",
    "            rsi = bc(yis, bc_params)\n",
    "            \n",
    "            columni = (rsi - rs) / eps\n",
    "            F[:, i] = columni\n",
    "        newton_steps += 1\n",
    "        if det(F) == 0:\n",
    "            print(F)\n",
    "            print(\"Zero Det\")\n",
    "            return newton_steps, ys, det(F), svd(F)[1]\n",
    "        y_approx = y_approx - np.dot(inv(F), rs)\n",
    "    \n",
    "    ys = np.concatenate((solver(t_left, y_approx, system, params)[::-1],\n",
    "                   solver(t_right, y_approx, system, params)[1:]))\n",
    "    \n",
    "    return newton_steps, ys"
   ]
  },
  {
   "cell_type": "code",
   "execution_count": 4,
   "id": "a7e2fde4",
   "metadata": {},
   "outputs": [],
   "source": [
    "def augmented_frechet_matrix(time_steps, ys_sol, system, params, cur_p, bc, bc_params, solver=runge_kutta):\n",
    "    eps = 10**(-4)\n",
    "    t_left = time_steps[len(time_steps)//2::-1]\n",
    "    t_right = time_steps[len(time_steps)//2:]\n",
    "    y_init = ys_sol[t_left[0]]\n",
    "    ys = np.concatenate((solver(t_left, y_init, system, params)[::-1],\n",
    "                         solver(t_right, y_init, system, params)[1:]))\n",
    "    rs = bc(ys, bc_params)\n",
    "    aug_F = np.zeros(len(y_init)*len(y_init) + len(y_init)).reshape(len(y_init), len(y_init)+1)\n",
    "    for i in range(len(y_init)):\n",
    "        yi_init = y_init.copy()\n",
    "        yi_init[i] += eps\n",
    "\n",
    "        yis = np.concatenate((solver(t_left, yi_init, system, params)[::-1],\n",
    "               solver(t_right, yi_init, system, params)[1:]))\n",
    "        rsi = bc(yis, bc_params)\n",
    "\n",
    "        columni = (rsi - rs) / eps\n",
    "        aug_F[:, i] = columni\n",
    "    params[cur_p] += eps\n",
    "    yps = np.concatenate((solver(t_left, y_init, system, params)[::-1],\n",
    "               solver(t_right, y_init, system, params)[1:]))\n",
    "    params[cur_p] -= eps\n",
    "    rsp = bc(yps, bc_params)\n",
    "    columnp = (rsp - rs) / eps\n",
    "    aug_F[:, -1] = columnp\n",
    "    return aug_F\n",
    "\n",
    "def analyse_point(aug_F):\n",
    "    eps = 10**(-4)\n",
    "    dets = []\n",
    "    for col in range(len(aug_F[0])):\n",
    "        cols = [i for i in range(len(aug_F[0])) if i != col]\n",
    "        dets.append(det(aug_F[:, cols]))\n",
    "    if (np.abs(dets) < eps).all():\n",
    "        return True, np.round(dets, 4)\n",
    "    return False, np.round(dets, 4)\n",
    "\n",
    "\n",
    "def continuation_parameter(Xs, Ys, x_cur, y_cur, x_next):\n",
    "    if len(Ys) < 3:\n",
    "        Ys.append(y_cur)\n",
    "        Xs.append(x_cur)\n",
    "    else:\n",
    "        Ys[0], Ys[1], Ys[2] = Ys[1], Ys[2], y_cur\n",
    "        Xs[0], Xs[1], Xs[2] = Xs[1], Xs[2], x_cur\n",
    "    a0 = Ys[0]\n",
    "    if len(Ys) == 1: return a0\n",
    "    a1 = (Ys[1] - Ys[0])/(Xs[1]-Xs[0])\n",
    "    if len(Ys) == 2: return a0 + a1*(x_next-Xs[0])\n",
    "    yx1x2 = (Ys[2]-Ys[1])/(Xs[2]-Xs[1])\n",
    "    a2 = (yx1x2 - a1)/(Xs[2]-Xs[0])\n",
    "    y_next = a0 + a1*(x_next-Xs[0]) + a2*(x_next-Xs[0])*(x_next-Xs[1])\n",
    "    return y_next"
   ]
  },
  {
   "cell_type": "code",
   "execution_count": 5,
   "id": "b3855d5f",
   "metadata": {},
   "outputs": [
    {
     "name": "stdout",
     "output_type": "stream",
     "text": [
      "Step  0\n",
      "[-0.48842218 -2.26875995]\n",
      "Step  1\n",
      "[-2.03021627e-13  5.91970917e-13]\n"
     ]
    },
    {
     "data": {
      "image/png": "[encoded data removed]",
      "text/plain": [
       "<Figure size 432x432 with 1 Axes>"
      ]
     },
     "metadata": {
      "needs_background": "light"
     },
     "output_type": "display_data"
    },
    {
     "data": {
      "image/png": "[encoded data removed]",
      "text/plain": [
       "<Figure size 432x432 with 1 Axes>"
      ]
     },
     "metadata": {
      "needs_background": "light"
     },
     "output_type": "display_data"
    }
   ],
   "source": [
    "'''\n",
    "system:\n",
    "dx/dt = x(t) - y(t) + exp(t)\n",
    "dy/dt = x(t) + 3*y(t)\n",
    "\n",
    "boundary conditions:\n",
    "x(0) = 0\n",
    "y(1) = e\n",
    "'''\n",
    "\n",
    "def system(t, xy, params):\n",
    "    x,y = xy\n",
    "    dx = x - y + np.exp(t)\n",
    "    dy = x + 3*y\n",
    "    return np.array([dx, dy])\n",
    "\n",
    "def bc(xy_span, bc_params):\n",
    "    x, y = xy_span[:,0], xy_span[:,1]\n",
    "    \n",
    "    r1 = x[0] - bc_params[0]\n",
    "    r2 = y[-1] - bc_params[-1]\n",
    "    return np.array([r1,r2])\n",
    "\n",
    "def true_x(t):\n",
    "    return (2-t)*np.exp(2*t)-2*np.exp(t)\n",
    "def true_y(t):\n",
    "    return (t-1)*np.exp(2*t)+np.exp(t)\n",
    "\n",
    "h = 0.01\n",
    "steps, xy_span, d, svd = shooting(np.arange(0,1+h,h), [0,0], system, [], bc, [0, np.e])\n",
    "\n",
    "fig, ax = plt.subplots(1,1,figsize=(6, 6))\n",
    "plt.plot(np.arange(0,1+h,h), xy_span[:,0], c='orange')\n",
    "plt.plot(np.arange(0,1+h,h), true_x(np.arange(0,1+h,h)), c='black')\n",
    "plt.show()\n",
    "\n",
    "fig, ax = plt.subplots(1,1,figsize=(6, 6))\n",
    "plt.plot(np.arange(0,1+h,h), xy_span[:,1], c='orange')\n",
    "plt.plot(np.arange(0,1+h,h), true_y(np.arange(0,1+h,h)), c='black')\n",
    "plt.show()\n"
   ]
  },
  {
   "cell_type": "code",
   "execution_count": 22,
   "id": "faae50f7",
   "metadata": {
    "scrolled": false
   },
   "outputs": [
    {
     "name": "stdout",
     "output_type": "stream",
     "text": [
      "Step  0\n",
      "[-3.  0.]\n",
      "Step  1\n",
      "[-9.15267862e-13  9.36750677e-16]\n"
     ]
    },
    {
     "data": {
      "image/png": "[encoded data removed]",
      "text/plain": [
       "<Figure size 432x432 with 1 Axes>"
      ]
     },
     "metadata": {
      "needs_background": "light"
     },
     "output_type": "display_data"
    },
    {
     "data": {
      "image/png": "[encoded data removed]",
      "text/plain": [
       "<Figure size 432x432 with 1 Axes>"
      ]
     },
     "metadata": {
      "needs_background": "light"
     },
     "output_type": "display_data"
    }
   ],
   "source": [
    "'''\n",
    "system:\n",
    "dx/dt = -2*x + 4*y\n",
    "dy/dt = -x + 3*y \n",
    "\n",
    "boundary conditions:\n",
    "x(0) = 0\n",
    "y(1) = e\n",
    "'''\n",
    "\n",
    "def system(t, xy, params):\n",
    "    x,y = xy\n",
    "    dx = -2*x + 4*y\n",
    "    dy = -x + 3*y\n",
    "    return np.array([dx, dy])\n",
    "\n",
    "def bc(xy_span, bc_params):\n",
    "    x, y = xy_span[:,0], xy_span[:,1]\n",
    "    \n",
    "    r1 = x[0] - bc_params[0]\n",
    "    r2 = y[-1] - bc_params[-1]\n",
    "    return np.array([r1,r2])\n",
    "\n",
    "def true_x(t):\n",
    "    return (4)*np.exp(-1*t)-np.exp(2*t)\n",
    "def true_y(t):\n",
    "    return np.exp(-1*t)-np.exp(2*t)\n",
    "\n",
    "h = 0.01\n",
    "steps, xy_span = shooting(np.arange(0,1+h,h), [0,0], system, [], bc, [3, 0])\n",
    "\n",
    "fig, ax = plt.subplots(1,1,figsize=(6, 6))\n",
    "plt.plot(np.arange(0,1+h,h), xy_span[:,0], c='orange')\n",
    "plt.plot(np.arange(0,1+h,h), true_x(np.arange(0,1+h,h)), c='black')\n",
    "plt.show()\n",
    "\n",
    "fig, ax = plt.subplots(1,1,figsize=(6, 6))\n",
    "plt.plot(np.arange(0,1+h,h), xy_span[:,1], c='orange')\n",
    "plt.plot(np.arange(0,1+h,h), true_y(np.arange(0,1+h,h)), c='black')\n",
    "plt.show()\n"
   ]
  },
  {
   "cell_type": "code",
   "execution_count": null,
   "id": "12e44145",
   "metadata": {},
   "outputs": [],
   "source": []
  }
 ],
 "metadata": {
  "kernelspec": {
   "display_name": "Python 3 (ipykernel)",
   "language": "python",
   "name": "python3"
  },
  "language_info": {
   "codemirror_mode": {
    "name": "ipython",
    "version": 3
   },
   "file_extension": ".py",
   "mimetype": "text/x-python",
   "name": "python",
   "nbconvert_exporter": "python",
   "pygments_lexer": "ipython3",
   "version": "3.9.12"
  }
 },
 "nbformat": 4,
 "nbformat_minor": 5
}
