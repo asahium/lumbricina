{
 "cells": [
  {
   "cell_type": "code",
   "execution_count": 1,
   "metadata": {
    "id": "oOVuV76c67Fo"
   },
   "outputs": [],
   "source": [
    "from numpy  import*\n",
    "import matplotlib.pyplot as plt\n",
    "import matplotlib.font_manager as fm,os\n",
    "import matplotlib.patches as mpatches\n",
    "import matplotlib.lines as mlines\n",
    "from scipy.integrate import odeint\n",
    "from scipy import linalg\n",
    "import time\n",
    "from numpy.linalg import det, inv, svd, norm\n",
    "import numpy as np"
   ]
  },
  {
   "cell_type": "markdown",
   "metadata": {},
   "source": [
    "### The Runge-Kutta numerical integration method."
   ]
  },
  {
   "cell_type": "code",
   "execution_count": 2,
   "metadata": {},
   "outputs": [],
   "source": [
    "def Runge_Kutta(to, tEnd, yo, tau, f, p):\n",
    "    \"\"\"Approximates the solution to a system of first-order ordinary differential equations\n",
    "    using the fourth-order Runge-Kutta method.\n",
    "\n",
    "    Args:\n",
    "        to (float): Initial time.\n",
    "        tEnd (float): Final time.\n",
    "        yo (float): Initial condition for the dependent variable.\n",
    "        tau (float): Step size.\n",
    "        f (function): A function that calculates the derivative of the dependent variable\n",
    "            with respect to time.\n",
    "        p (dict): A dictionary containing any parameters required by the derivative function.\n",
    "\n",
    "    Returns:\n",
    "        array: An array containing the estimated values of the dependent variable at each time step.\n",
    "    \"\"\"\n",
    "\n",
    "    def increment(f, t, y, tau, p):\n",
    "        \"\"\"Computes the weighted average of the derivatives at each of the intermediate points for a given time step.\n",
    "\n",
    "        Returns:\n",
    "            float: The weighted average of the derivatives at each of the intermediate points.\n",
    "        \"\"\"\n",
    "        k1 = tau*f(t,y, p)\n",
    "        k2 = tau*f(t+(1/4)*tau,y+(1/4)*k1, p)\n",
    "        k3 = tau *f(t+(3/8)*tau,y+(3/32)*k1+(9/32)*k2, p)\n",
    "        k4 = tau*f(t+(12/13)*tau,y+(1932/2197)*k1-(7200/2197)*k2+(7296/2197)*k3, p)\n",
    "        k5 = tau*f(t+tau,y+(439/216)*k1-8*k2+(3680/513)*k3 -(845/4104)*k4, p)\n",
    "        k6 = tau*f(t+(1/2)*tau,y-(8/27)*k1+2*k2-(3544/2565)*k3 +(1859/4104)*k4-(11/40)*k5, p)\n",
    "        return (16/135)*k1+(6656/12825)*k3+(28561/56430)*k4-(9/50)*k5+(2/55)*k6\n",
    "          \n",
    "        \n",
    "    y = [yo]\n",
    "    while True:\n",
    "        if tau > 0: tau = min(tau, tEnd - to)\n",
    "        else: tau = max(tau, tEnd-to)\n",
    "        to = to + tau\n",
    "        if to == tEnd: break\n",
    "        yo = yo + increment(f, to, yo, tau, p)\n",
    "        y.append(yo)\n",
    "    return array(y)"
   ]
  },
  {
   "cell_type": "code",
   "execution_count": null,
   "metadata": {},
   "outputs": [],
   "source": [
    "# 0 = 15\n",
    "# 1 + 2 = 0\n",
    "# 3 + 4 = 1\n",
    "# 5 + 6 = 2\n",
    "# 12 = 3\n",
    "# 4 + 6 = 7\n",
    "# 11 = 5\n",
    "# 7 = 8\n",
    "# 9 + 10 = 8\n",
    "# 10 + 11 = 13\n",
    "# 12 + 9 = 14\n",
    "# 14 + 13 = 15\n",
    "\n",
    "# 0 = 1\n",
    "# 0 = 2\n",
    "# 0 = 15\n",
    "# 1 = 3\n",
    "# 1 = 4\n",
    "# 2 = 5 \n",
    "# 2 = 6\n",
    "# 7 = 4\n",
    "# 7 = 6\n",
    "# 7 = 8\n",
    "# 5 = 11\n",
    "# 13 = 10\n",
    "# 13 = 11\n",
    "# 13 = 15\n",
    "# 14 = 15\n",
    "# 14 = 12\n",
    "# 14 = 9\n",
    "# 8 = 9\n",
    "# 8 = 10\n",
    "# 12 = 3"
   ]
  },
  {
   "cell_type": "code",
   "execution_count": 3,
   "metadata": {},
   "outputs": [],
   "source": [
    "def calc_function(t, y, lambda_):\n",
    "\n",
    "    f = np.zeros(4)\n",
    "\n",
    "    p_ext = 1.17\n",
    "    V0 = 87\n",
    "    \n",
    "    T, c1, c2, I, r1, r2 = [1, lambda_, 1.1, 1.13, 0.61, 0.93]\n",
    "\n",
    "    # The first derivative for the first vessel\n",
    "    f[0] = y[1]                                                 \n",
    "\n",
    "    # The second derivative for the second vessel\n",
    "    f[1] = round(-r1*T/I*y[1] - T**2/(c1*I)*y[0] + T**2*p_ext/(I*V0),100)\n",
    "\n",
    "    # The first derivative for the second vessel\n",
    "    f[2] = y[3]                                          \n",
    "\n",
    "    # The second derivative for the second vessel\n",
    "    f[3] = round(-r2*T/I*y[3] - T**2/(c2*I)*y[2] + T**2*p_ext/(I*V0),100)\n",
    "\n",
    "    f[4] \n",
    "    return f"
   ]
  },
  {
   "cell_type": "code",
   "execution_count": 4,
   "metadata": {},
   "outputs": [],
   "source": [
    "def initial_checker_for_calc(y_all,lambda_):\n",
    "    left = y_all[0]\n",
    "    right = y_all[-1]\n",
    "    eps1 = 1\n",
    "    eps2 = 0.5\n",
    "    p_k = 0.1\n",
    "    q = 0.1\n",
    "    residuals = []\n",
    "\n",
    "    p_ext = 1.17\n",
    "\n",
    "    T, c1, c2, I, r1, r2 = [1, lambda_, 1.1, 1.13, 0.61, 0.93]\n",
    "    \n",
    "    s1 = 0.89\n",
    "    \n",
    "    s2 = 0.97\n",
    "\n",
    "  # Mass Conservation\n",
    "    residuals.append(2650*right[1] - 3000*left[3])\n",
    "    residuals.append(2650*left[1] - 3000*right[3])\n",
    "\n",
    "  # Bernoulli\n",
    "    residuals.append((2650*right[1] / sqrt(2)/T/s1)**2 + right[0]/c1 - (3000*left[3]/sqrt(2)/T/s2)**2 - left[2]/c2)\n",
    "    residuals.append((2650*left[1] / sqrt(2)/T/s1)**2 + left[0]/c1 - (3000*right[3]/sqrt(2)/T/s2)**2 - right[2]/c2 - p_ext)\n",
    "\n",
    "    return np.array(residuals)"
   ]
  },
  {
   "cell_type": "code",
   "execution_count": 5,
   "metadata": {
    "id": "yjEcIbfz2iCN"
   },
   "outputs": [],
   "source": [
    "graph_nodes = []\n",
    "Frech_dets = []\n",
    "eigenvals = []"
   ]
  },
  {
   "cell_type": "code",
   "execution_count": 6,
   "metadata": {
    "id": "uNnTZ0hh1u18"
   },
   "outputs": [],
   "source": [
    "def drop_parameter(arr, idx):             \n",
    "    return np.delete(arr, idx)"
   ]
  },
  {
   "cell_type": "code",
   "execution_count": 7,
   "metadata": {
    "id": "tW_3YgOz7hQ4"
   },
   "outputs": [],
   "source": [
    "def shooting(stepping_param_idx, approx,                                                                     #!!!!!!!!!!!!!   ОТРЕДАЧИТЬ ЭТУ ЯЧЕЙКУ !!!!!!!!!!!!!!!!  сделать p не отдельной переменной, а последним элементом approx\n",
    "              func,\n",
    "              left,\n",
    "              right,\n",
    "              step,\n",
    "              bc,\n",
    "              eps=1e-4):\n",
    "  steps = 0\n",
    "  frech_ans = 1e9\n",
    "  while(True):\n",
    "        y = np.concatenate((Runge_Kutta((right + left) / 2, left, drop_parameter(approx, len(approx) - 1), -step, func, approx[-1])[::-1],\n",
    "                             Runge_Kutta((right + left) / 2, right, drop_parameter(approx, len(approx) - 1), step, func, approx[-1])[1:]))\n",
    "        ys = y\n",
    "        residuals = bc(y,approx[-1])\n",
    "        #print(f'residuals {steps}', residuals)\n",
    "        if (np.abs(residuals) < eps).all():\n",
    "          #print('max', max(residuals))\n",
    "          break\n",
    "        steps += 1\n",
    "        F = np.zeros((len(approx) - 1, len(approx)))\n",
    "        #метод Ньютона\n",
    "        for i in range(len(approx)):\n",
    "            if i == stepping_param_idx: continue\n",
    "            y_approx = approx.copy()\n",
    "            y_approx[i] += eps\n",
    "            y_i = np.concatenate((Runge_Kutta((right + left) / 2, left, drop_parameter(y_approx, len(y_approx) - 1), -step, func, y_approx[-1])[::-1],\n",
    "                                  Runge_Kutta((right + left) / 2, right, drop_parameter(y_approx, len(y_approx) - 1), step, func, y_approx[-1])[1:]))\n",
    "            residuals_i = bc(y_i, approx[-1])\n",
    "            \n",
    "            F[:, i] = (residuals_i - residuals) / eps\n",
    "\n",
    "        F = np.delete(F, stepping_param_idx, axis=1)\n",
    "        frech_ans = np.linalg.det(F) # determinant of Fréchet matrix\n",
    "\n",
    "        if np.linalg.det(F) == 0 or steps >= 100:    \n",
    "            print('Convergence. Zero determinant of Fréchet matrix or maximum number of steps.')\n",
    "            return False, steps, ys, approx, frech_ans\n",
    "\n",
    "        res = np.dot(np.linalg.inv(F), residuals)\n",
    "        res = np.insert(res, stepping_param_idx, 0)\n",
    "        approx = approx - res\n",
    "\n",
    "        # конец метода Ньютона\n",
    "\n",
    "        ys = np.concatenate((Runge_Kutta((right + left) / 2, left, drop_parameter(approx, len(approx) - 1), -step, func, approx[-1])[::-1],\n",
    "                      Runge_Kutta((right + left) / 2, right, drop_parameter(approx, len(approx) - 1), step, func, approx[-1])[1:]))\n",
    "        \n",
    "  if steps>0:\n",
    "    eigenvals.append(np.linalg.eig(F)[0][-2:])\n",
    "  else:\n",
    "    eigenvals.append(np.zeros(2))    \n",
    "  return True, steps, ys, approx, frech_ans"
   ]
  },
  {
   "cell_type": "code",
   "execution_count": 8,
   "metadata": {
    "id": "UUurgL2Q7LIc"
   },
   "outputs": [],
   "source": [
    "def parameter_move(stepping_param_idx, approx, step):          \n",
    "  previous_approximation = np.zeros(approx.shape)\n",
    "  last_approximation = np.zeros(approx.shape)\n",
    "  steps_streak=0\n",
    "  max_steps_streak=0\n",
    "  is_inf = False\n",
    "  first_step=True \n",
    "  \n",
    "  while abs(step) > 1e-4:\n",
    "\n",
    "    print('step', step)\n",
    "    print('shoot', approx[stepping_param_idx] + step)\n",
    "\n",
    "    approx_try = approx.copy()                                  \n",
    "    approx_try[stepping_param_idx] += step\n",
    "\n",
    "    shoot = shooting(stepping_param_idx, approx = approx_try,\n",
    "                     func = calc_function, left = 0, right = 1,\n",
    "                     step = 0.01,\n",
    "                     bc = initial_checker_for_calc)   \n",
    "    print(shoot[0], shoot[1], shoot[3], '\\n')\n",
    "\n",
    "    if shoot[0]:    # not a critical point\n",
    "      if step < 10:\n",
    "        step *= 1.2\n",
    "\n",
    "      steps_streak += 1\n",
    "      previous_approximation = last_approximation\n",
    "      approx = shoot[3]\n",
    "      graph_nodes.append(approx)\n",
    "      Frech_dets.append(shoot[4])\n",
    "      last_approximation = approx\n",
    "\n",
    "    else:\n",
    "      step /= 2\n",
    "      steps_streak = 0\n",
    "\n",
    "  if not is_inf:\n",
    "    print('предельная точка', approx[stepping_param_idx])\n",
    "\n",
    "  return stepping_param_idx , np.array(last_approximation - previous_approximation), is_inf, approx"
   ]
  },
  {
   "cell_type": "code",
   "execution_count": 9,
   "metadata": {
    "id": "3fxYbhZP7m6v"
   },
   "outputs": [],
   "source": [
    "def parameter_change(stepping_param_idx, diff, approx):                                                            #!!!!!!!!!!!!!   ОТРЕДАЧИТЬ ЭТУ ЯЧЕЙКУ !!!!!!!!!!!!!!!!  сделать p по индексу а не по значению\n",
    "  # diff - array of parameter differences at the last step\n",
    "\n",
    "    max_idx = 0\n",
    "    max1 = 0\n",
    "    for i in range(len(diff)):\n",
    "        if i != stepping_param_idx and abs(diff[i]) > max1:\n",
    "            max1 = abs(diff[i])\n",
    "            max_idx = i\n",
    "    print('diff', diff)\n",
    "\n",
    "    stepping_param_idx = max_idx\n",
    "    \n",
    "    print('new param', stepping_param_idx)\n",
    "    if diff[max_idx] > 0: new_step = 0.01 \n",
    "    else: new_step = -0.01\n",
    "\n",
    "    print('new_step', new_step)\n",
    "    \n",
    "    return stepping_param_idx, new_step"
   ]
  },
  {
   "cell_type": "code",
   "execution_count": 10,
   "metadata": {
    "id": "DsxLFNSe7aI5"
   },
   "outputs": [],
   "source": [
    "def branches_search(stepping_param_idx, approx, step = 0.01):\n",
    "    while 1 == 1:\n",
    "        stepping_param_idx, diff, is_inf, approx = parameter_move(stepping_param_idx, approx, step)\n",
    "        if is_inf: break\n",
    "        print('Parameter change')\n",
    "        stepping_param_idx, step = parameter_change(stepping_param_idx, diff, approx)\n",
    "        print('approx', approx)"
   ]
  },
  {
   "cell_type": "code",
   "execution_count": 11,
   "metadata": {},
   "outputs": [],
   "source": [
    "#def branches_search(stepping_param_idx, approx, step=0.01):\n",
    "#    done = False\n",
    "#    while not done:\n",
    "#        stepping_param_idx, diff, is_inf, approx = parameter_move(stepping_param_idx, approx, step)\n",
    "#        if not is_inf:\n",
    "#            print('Parameter change')\n",
    "#            stepping_param_idx, step = parameter_change(stepping_param_idx, diff, approx)\n",
    "#            print('approx:', approx)\n",
    "#        else:\n",
    "#            done = True"
   ]
  },
  {
   "cell_type": "markdown",
   "metadata": {},
   "source": [
    "Точки бифуркциии:"
   ]
  },
  {
   "cell_type": "code",
   "execution_count": 12,
   "metadata": {
    "colab": {
     "base_uri": "https://localhost:8080/",
     "height": 1000
    },
    "id": "Z2DK41a57dY1",
    "outputId": "a5bf512f-6efb-4600-dd44-d3c6038e71ea",
    "scrolled": true
   },
   "outputs": [
    {
     "name": "stdout",
     "output_type": "stream",
     "text": [
      "step 0.01\n",
      "shoot 0.01\n",
      "True 66 [ 0.00019613  0.00400005  0.017129   -0.00064658  0.01      ] \n",
      "\n",
      "step 0.012\n",
      "shoot 0.022\n",
      "True 35 [ 0.00404436 -0.00035001  0.01207775  0.00063613  0.022     ] \n",
      "\n",
      "step 0.0144\n",
      "shoot 0.0364\n",
      "True 71 [ 0.00068153 -0.0007053   0.01253836  0.00072758  0.0364    ] \n",
      "\n",
      "step 0.01728\n",
      "shoot 0.053680000000000005\n",
      "True 93 [ 0.00090584 -0.00129925  0.0125423   0.00072462  0.05368   ] \n",
      "\n",
      "step 0.020736\n",
      "shoot 0.07441600000000001\n",
      "True 36 [ 0.00128311 -0.00427498  0.01251094  0.00069663  0.074416  ] \n",
      "\n",
      "step 0.0248832\n",
      "shoot 0.0992992\n",
      "Convergence. Zero determinant of Fréchet matrix or maximum number of steps.\n",
      "False 100 [ 0.00135672 -0.0058179   0.01684869 -0.00081757  0.0992992 ] \n",
      "\n",
      "step 0.0124416\n",
      "shoot 0.08685760000000001\n",
      "Convergence. Zero determinant of Fréchet matrix or maximum number of steps.\n",
      "False 100 [ 0.00813942 -0.26088512  0.01847235 -0.00318564  0.0868576 ] \n",
      "\n",
      "step 0.0062208\n",
      "shoot 0.08063680000000001\n",
      "Convergence. Zero determinant of Fréchet matrix or maximum number of steps.\n",
      "False 100 [ 0.00157387 -0.01456409  0.01277302  0.0008331   0.0806368 ] \n",
      "\n",
      "step 0.0031104\n",
      "shoot 0.07752640000000001\n",
      "True 20 [ 0.00137472 -0.00591055  0.01249827  0.00068434  0.0775264 ] \n",
      "\n",
      "step 0.00373248\n",
      "shoot 0.08125888\n",
      "True 34 [ 0.00155993 -0.01059217  0.01247562  0.00065619  0.08125888] \n",
      "\n",
      "step 0.004478976\n",
      "shoot 0.085737856\n",
      "Convergence. Zero determinant of Fréchet matrix or maximum number of steps.\n",
      "False 100 [ 0.05140394 -1.90780867  0.01702615 -0.00370835  0.08573786] \n",
      "\n",
      "step 0.002239488\n",
      "shoot 0.083498368\n",
      "True 53 [ 0.00224115 -0.04055855  0.01307396  0.00086485  0.08349837] \n",
      "\n",
      "step 0.0026873856\n",
      "shoot 0.0861857536\n",
      "Convergence. Zero determinant of Fréchet matrix or maximum number of steps.\n",
      "False 100 [ 0.00575818 -0.17347058  0.01586994 -0.00105016  0.08618575] \n",
      "\n",
      "step 0.0013436928\n",
      "shoot 0.08484206080000001\n",
      "Convergence. Zero determinant of Fréchet matrix or maximum number of steps.\n",
      "False 100 [ 0.00468923 -0.13767495  0.01380662  0.00084545  0.08484206] \n",
      "\n",
      "step 0.0006718464\n",
      "shoot 0.0841702144\n",
      "True 80 [ 0.00283983 -0.06426566  0.01325867  0.00087322  0.08417021] \n",
      "\n",
      "step 0.0008062156799999999\n",
      "shoot 0.08497643008\n",
      "Convergence. Zero determinant of Fréchet matrix or maximum number of steps.\n",
      "False 100 [ 0.00555559 -0.17207592  0.01408513  0.00080801  0.08497643] \n",
      "\n",
      "step 0.00040310783999999994\n",
      "shoot 0.08457332224\n",
      "Convergence. Zero determinant of Fréchet matrix or maximum number of steps.\n",
      "False 100 [ 0.00363563 -0.0958572   0.01349272  0.00087004  0.08457332] \n",
      "\n",
      "step 0.00020155391999999997\n",
      "shoot 0.08437176832\n",
      "True 42 [ 0.00316559 -0.07719643  0.01335515  0.00087366  0.08437177] \n",
      "\n",
      "step 0.00024186470399999995\n",
      "shoot 0.084613633024\n",
      "Convergence. Zero determinant of Fréchet matrix or maximum number of steps.\n",
      "False 100 [ 0.00375553 -0.100617    0.01352764  0.00086851  0.08461363] \n",
      "\n",
      "step 0.00012093235199999998\n",
      "shoot 0.084492700672\n",
      "True 83 [ 0.00342475 -0.08748507  0.01343119  0.00087216  0.0844927 ] \n",
      "\n",
      "step 0.00014511882239999998\n",
      "shoot 0.0846378194944\n",
      "Convergence. Zero determinant of Fréchet matrix or maximum number of steps.\n",
      "False 100 [ 0.00383202 -0.10365277  0.01355019  0.00086718  0.08463782] \n",
      "\n",
      "предельная точка 0.084492700672\n",
      "Parameter change\n",
      "diff [ 2.59160794e-04 -1.02886432e-02  7.60348741e-05 -1.50071433e-06\n",
      "  1.20932352e-04]\n",
      "new param 1\n",
      "new_step -0.01\n",
      "approx [ 0.00342475 -0.08748507  0.01343119  0.00087216  0.0844927 ]\n",
      "step -0.01\n",
      "shoot -0.09748507015019864\n",
      "True 22 [ 0.00394717 -0.09748507  0.01252199  0.00035201  0.0854194 ] \n",
      "\n",
      "step -0.012\n",
      "shoot -0.10948507015019864\n",
      "True 17 [ 0.00426445 -0.10948507  0.01255112  0.0003164   0.08546634] \n",
      "\n",
      "step -0.0144\n",
      "shoot -0.12388507015019863\n",
      "True 17 [ 0.00464425 -0.12388507  0.0125909   0.00027381  0.08550992] \n",
      "\n",
      "step -0.01728\n",
      "shoot -0.14116507015019863\n",
      "True 16 [ 0.00509885 -0.14116507  0.01264568  0.00022245  0.08554994] \n",
      "\n",
      "step -0.020736\n",
      "shoot -0.16190107015019864\n",
      "True 17 [ 0.00544491 -0.16190107  0.01560448 -0.00082884  0.08608444] \n",
      "\n",
      "step -0.0248832\n",
      "shoot -0.18678427015019863\n",
      "True 16 [ 0.00611634 -0.18678427  0.01540124 -0.00079998  0.08600494] \n",
      "\n",
      "step -0.02985984\n",
      "shoot -0.21664411015019863\n",
      "True 13 [ 7.07129054e-03 -2.16644110e-01  1.29964543e-02 -2.09066391e-05\n",
      "  8.56530226e-02] \n",
      "\n",
      "step -0.035831808\n",
      "shoot -0.25247591815019865\n",
      "True 21 [ 7.99742366e-03 -2.52475918e-01  1.32802821e-02 -1.68997303e-04\n",
      "  8.56894831e-02] \n",
      "\n",
      "step -0.0429981696\n",
      "shoot -0.2954740877501987\n",
      "Convergence. Zero determinant of Fréchet matrix or maximum number of steps.\n",
      "False 100 [ 0.00912177 -0.29547409  0.01349018 -0.00031955  0.08571684] \n",
      "\n",
      "step -0.0214990848\n",
      "shoot -0.27397500295019867\n",
      "True 16 [ 0.00854392 -0.273975    0.01357583 -0.00029906  0.08571873] \n",
      "\n",
      "step -0.025798901759999996\n",
      "shoot -0.29977390471019866\n",
      "Convergence. Zero determinant of Fréchet matrix or maximum number of steps.\n",
      "False 100 [ 0.00920004 -0.2997739   0.01389617 -0.00043462  0.08574127] \n",
      "\n",
      "step -0.012899450879999998\n",
      "shoot -0.28687445383019866\n",
      "Convergence. Zero determinant of Fréchet matrix or maximum number of steps.\n",
      "False 100 [ 0.00842241 -0.28687445  0.01969793 -0.00226313  0.08624501] \n",
      "\n",
      "step -0.006449725439999999\n",
      "shoot -0.28042472839019866\n"
     ]
    },
    {
     "ename": "KeyboardInterrupt",
     "evalue": "",
     "output_type": "error",
     "traceback": [
      "\u001b[0;31m---------------------------------------------------------------------------\u001b[0m",
      "\u001b[0;31mKeyboardInterrupt\u001b[0m                         Traceback (most recent call last)",
      "\u001b[0;32m<ipython-input-12-270ba9b6b094>\u001b[0m in \u001b[0;36m<module>\u001b[0;34m\u001b[0m\n\u001b[1;32m      1\u001b[0m \u001b[0mapprox\u001b[0m \u001b[0;34m=\u001b[0m \u001b[0mnp\u001b[0m\u001b[0;34m.\u001b[0m\u001b[0mzeros\u001b[0m\u001b[0;34m(\u001b[0m\u001b[0;36m5\u001b[0m\u001b[0;34m)\u001b[0m\u001b[0;34m\u001b[0m\u001b[0;34m\u001b[0m\u001b[0m\n\u001b[1;32m      2\u001b[0m \u001b[0;34m\u001b[0m\u001b[0m\n\u001b[0;32m----> 3\u001b[0;31m \u001b[0mbranches_search\u001b[0m\u001b[0;34m(\u001b[0m\u001b[0mlen\u001b[0m\u001b[0;34m(\u001b[0m\u001b[0mapprox\u001b[0m\u001b[0;34m)\u001b[0m \u001b[0;34m-\u001b[0m \u001b[0;36m1\u001b[0m\u001b[0;34m,\u001b[0m \u001b[0mapprox\u001b[0m\u001b[0;34m,\u001b[0m \u001b[0mstep\u001b[0m\u001b[0;34m=\u001b[0m\u001b[0;36m0.01\u001b[0m\u001b[0;34m)\u001b[0m\u001b[0;34m\u001b[0m\u001b[0;34m\u001b[0m\u001b[0m\n\u001b[0m",
      "\u001b[0;32m<ipython-input-10-7b3b1e6e8abd>\u001b[0m in \u001b[0;36mbranches_search\u001b[0;34m(stepping_param_idx, approx, step)\u001b[0m\n\u001b[1;32m      1\u001b[0m \u001b[0;32mdef\u001b[0m \u001b[0mbranches_search\u001b[0m\u001b[0;34m(\u001b[0m\u001b[0mstepping_param_idx\u001b[0m\u001b[0;34m,\u001b[0m \u001b[0mapprox\u001b[0m\u001b[0;34m,\u001b[0m \u001b[0mstep\u001b[0m \u001b[0;34m=\u001b[0m \u001b[0;36m0.01\u001b[0m\u001b[0;34m)\u001b[0m\u001b[0;34m:\u001b[0m\u001b[0;34m\u001b[0m\u001b[0;34m\u001b[0m\u001b[0m\n\u001b[1;32m      2\u001b[0m     \u001b[0;32mwhile\u001b[0m \u001b[0;36m1\u001b[0m \u001b[0;34m==\u001b[0m \u001b[0;36m1\u001b[0m\u001b[0;34m:\u001b[0m\u001b[0;34m\u001b[0m\u001b[0;34m\u001b[0m\u001b[0m\n\u001b[0;32m----> 3\u001b[0;31m         \u001b[0mstepping_param_idx\u001b[0m\u001b[0;34m,\u001b[0m \u001b[0mdiff\u001b[0m\u001b[0;34m,\u001b[0m \u001b[0mis_inf\u001b[0m\u001b[0;34m,\u001b[0m \u001b[0mapprox\u001b[0m \u001b[0;34m=\u001b[0m \u001b[0mparameter_move\u001b[0m\u001b[0;34m(\u001b[0m\u001b[0mstepping_param_idx\u001b[0m\u001b[0;34m,\u001b[0m \u001b[0mapprox\u001b[0m\u001b[0;34m,\u001b[0m \u001b[0mstep\u001b[0m\u001b[0;34m)\u001b[0m\u001b[0;34m\u001b[0m\u001b[0;34m\u001b[0m\u001b[0m\n\u001b[0m\u001b[1;32m      4\u001b[0m         \u001b[0;32mif\u001b[0m \u001b[0mis_inf\u001b[0m\u001b[0;34m:\u001b[0m \u001b[0;32mbreak\u001b[0m\u001b[0;34m\u001b[0m\u001b[0;34m\u001b[0m\u001b[0m\n\u001b[1;32m      5\u001b[0m         \u001b[0mprint\u001b[0m\u001b[0;34m(\u001b[0m\u001b[0;34m'Parameter change'\u001b[0m\u001b[0;34m)\u001b[0m\u001b[0;34m\u001b[0m\u001b[0;34m\u001b[0m\u001b[0m\n",
      "\u001b[0;32m<ipython-input-8-895804657536>\u001b[0m in \u001b[0;36mparameter_move\u001b[0;34m(stepping_param_idx, approx, step)\u001b[0m\n\u001b[1;32m     15\u001b[0m     \u001b[0mapprox_try\u001b[0m\u001b[0;34m[\u001b[0m\u001b[0mstepping_param_idx\u001b[0m\u001b[0;34m]\u001b[0m \u001b[0;34m+=\u001b[0m \u001b[0mstep\u001b[0m\u001b[0;34m\u001b[0m\u001b[0;34m\u001b[0m\u001b[0m\n\u001b[1;32m     16\u001b[0m \u001b[0;34m\u001b[0m\u001b[0m\n\u001b[0;32m---> 17\u001b[0;31m     shoot = shooting(stepping_param_idx, approx = approx_try,\n\u001b[0m\u001b[1;32m     18\u001b[0m                      \u001b[0mfunc\u001b[0m \u001b[0;34m=\u001b[0m \u001b[0mcalc_function\u001b[0m\u001b[0;34m,\u001b[0m \u001b[0mleft\u001b[0m \u001b[0;34m=\u001b[0m \u001b[0;36m0\u001b[0m\u001b[0;34m,\u001b[0m \u001b[0mright\u001b[0m \u001b[0;34m=\u001b[0m \u001b[0;36m1\u001b[0m\u001b[0;34m,\u001b[0m\u001b[0;34m\u001b[0m\u001b[0;34m\u001b[0m\u001b[0m\n\u001b[1;32m     19\u001b[0m                      \u001b[0mstep\u001b[0m \u001b[0;34m=\u001b[0m \u001b[0;36m0.01\u001b[0m\u001b[0;34m,\u001b[0m\u001b[0;34m\u001b[0m\u001b[0;34m\u001b[0m\u001b[0m\n",
      "\u001b[0;32m<ipython-input-7-f9d4c542ebc6>\u001b[0m in \u001b[0;36mshooting\u001b[0;34m(stepping_param_idx, approx, func, left, right, step, bc, eps)\u001b[0m\n\u001b[1;32m     44\u001b[0m \u001b[0;34m\u001b[0m\u001b[0m\n\u001b[1;32m     45\u001b[0m         ys = np.concatenate((Runge_Kutta((right + left) / 2, left, drop_parameter(approx, len(approx) - 1), -step, func, approx[-1])[::-1],\n\u001b[0;32m---> 46\u001b[0;31m                       Runge_Kutta((right + left) / 2, right, drop_parameter(approx, len(approx) - 1), step, func, approx[-1])[1:]))\n\u001b[0m\u001b[1;32m     47\u001b[0m \u001b[0;34m\u001b[0m\u001b[0m\n\u001b[1;32m     48\u001b[0m   \u001b[0;32mif\u001b[0m \u001b[0msteps\u001b[0m\u001b[0;34m>\u001b[0m\u001b[0;36m0\u001b[0m\u001b[0;34m:\u001b[0m\u001b[0;34m\u001b[0m\u001b[0;34m\u001b[0m\u001b[0m\n",
      "\u001b[0;32m<ipython-input-2-8da42eca6a94>\u001b[0m in \u001b[0;36mRunge_Kutta\u001b[0;34m(to, tEnd, yo, tau, f, p)\u001b[0m\n\u001b[1;32m     37\u001b[0m         \u001b[0mto\u001b[0m \u001b[0;34m=\u001b[0m \u001b[0mto\u001b[0m \u001b[0;34m+\u001b[0m \u001b[0mtau\u001b[0m\u001b[0;34m\u001b[0m\u001b[0;34m\u001b[0m\u001b[0m\n\u001b[1;32m     38\u001b[0m         \u001b[0;32mif\u001b[0m \u001b[0mto\u001b[0m \u001b[0;34m==\u001b[0m \u001b[0mtEnd\u001b[0m\u001b[0;34m:\u001b[0m \u001b[0;32mbreak\u001b[0m\u001b[0;34m\u001b[0m\u001b[0;34m\u001b[0m\u001b[0m\n\u001b[0;32m---> 39\u001b[0;31m         \u001b[0myo\u001b[0m \u001b[0;34m=\u001b[0m \u001b[0myo\u001b[0m \u001b[0;34m+\u001b[0m \u001b[0mincrement\u001b[0m\u001b[0;34m(\u001b[0m\u001b[0mf\u001b[0m\u001b[0;34m,\u001b[0m \u001b[0mto\u001b[0m\u001b[0;34m,\u001b[0m \u001b[0myo\u001b[0m\u001b[0;34m,\u001b[0m \u001b[0mtau\u001b[0m\u001b[0;34m,\u001b[0m \u001b[0mp\u001b[0m\u001b[0;34m)\u001b[0m\u001b[0;34m\u001b[0m\u001b[0;34m\u001b[0m\u001b[0m\n\u001b[0m\u001b[1;32m     40\u001b[0m         \u001b[0my\u001b[0m\u001b[0;34m.\u001b[0m\u001b[0mappend\u001b[0m\u001b[0;34m(\u001b[0m\u001b[0myo\u001b[0m\u001b[0;34m)\u001b[0m\u001b[0;34m\u001b[0m\u001b[0;34m\u001b[0m\u001b[0m\n\u001b[1;32m     41\u001b[0m     \u001b[0;32mreturn\u001b[0m \u001b[0marray\u001b[0m\u001b[0;34m(\u001b[0m\u001b[0my\u001b[0m\u001b[0;34m)\u001b[0m\u001b[0;34m\u001b[0m\u001b[0;34m\u001b[0m\u001b[0m\n",
      "\u001b[0;32m<ipython-input-2-8da42eca6a94>\u001b[0m in \u001b[0;36mincrement\u001b[0;34m(f, t, y, tau, p)\u001b[0m\n\u001b[1;32m     23\u001b[0m         \"\"\"\n\u001b[1;32m     24\u001b[0m         \u001b[0mk1\u001b[0m \u001b[0;34m=\u001b[0m \u001b[0mtau\u001b[0m\u001b[0;34m*\u001b[0m\u001b[0mf\u001b[0m\u001b[0;34m(\u001b[0m\u001b[0mt\u001b[0m\u001b[0;34m,\u001b[0m\u001b[0my\u001b[0m\u001b[0;34m,\u001b[0m \u001b[0mp\u001b[0m\u001b[0;34m)\u001b[0m\u001b[0;34m\u001b[0m\u001b[0;34m\u001b[0m\u001b[0m\n\u001b[0;32m---> 25\u001b[0;31m         \u001b[0mk2\u001b[0m \u001b[0;34m=\u001b[0m \u001b[0mtau\u001b[0m\u001b[0;34m*\u001b[0m\u001b[0mf\u001b[0m\u001b[0;34m(\u001b[0m\u001b[0mt\u001b[0m\u001b[0;34m+\u001b[0m\u001b[0;34m(\u001b[0m\u001b[0;36m1\u001b[0m\u001b[0;34m/\u001b[0m\u001b[0;36m4\u001b[0m\u001b[0;34m)\u001b[0m\u001b[0;34m*\u001b[0m\u001b[0mtau\u001b[0m\u001b[0;34m,\u001b[0m\u001b[0my\u001b[0m\u001b[0;34m+\u001b[0m\u001b[0;34m(\u001b[0m\u001b[0;36m1\u001b[0m\u001b[0;34m/\u001b[0m\u001b[0;36m4\u001b[0m\u001b[0;34m)\u001b[0m\u001b[0;34m*\u001b[0m\u001b[0mk1\u001b[0m\u001b[0;34m,\u001b[0m \u001b[0mp\u001b[0m\u001b[0;34m)\u001b[0m\u001b[0;34m\u001b[0m\u001b[0;34m\u001b[0m\u001b[0m\n\u001b[0m\u001b[1;32m     26\u001b[0m         \u001b[0mk3\u001b[0m \u001b[0;34m=\u001b[0m \u001b[0mtau\u001b[0m \u001b[0;34m*\u001b[0m\u001b[0mf\u001b[0m\u001b[0;34m(\u001b[0m\u001b[0mt\u001b[0m\u001b[0;34m+\u001b[0m\u001b[0;34m(\u001b[0m\u001b[0;36m3\u001b[0m\u001b[0;34m/\u001b[0m\u001b[0;36m8\u001b[0m\u001b[0;34m)\u001b[0m\u001b[0;34m*\u001b[0m\u001b[0mtau\u001b[0m\u001b[0;34m,\u001b[0m\u001b[0my\u001b[0m\u001b[0;34m+\u001b[0m\u001b[0;34m(\u001b[0m\u001b[0;36m3\u001b[0m\u001b[0;34m/\u001b[0m\u001b[0;36m32\u001b[0m\u001b[0;34m)\u001b[0m\u001b[0;34m*\u001b[0m\u001b[0mk1\u001b[0m\u001b[0;34m+\u001b[0m\u001b[0;34m(\u001b[0m\u001b[0;36m9\u001b[0m\u001b[0;34m/\u001b[0m\u001b[0;36m32\u001b[0m\u001b[0;34m)\u001b[0m\u001b[0;34m*\u001b[0m\u001b[0mk2\u001b[0m\u001b[0;34m,\u001b[0m \u001b[0mp\u001b[0m\u001b[0;34m)\u001b[0m\u001b[0;34m\u001b[0m\u001b[0;34m\u001b[0m\u001b[0m\n\u001b[1;32m     27\u001b[0m         \u001b[0mk4\u001b[0m \u001b[0;34m=\u001b[0m \u001b[0mtau\u001b[0m\u001b[0;34m*\u001b[0m\u001b[0mf\u001b[0m\u001b[0;34m(\u001b[0m\u001b[0mt\u001b[0m\u001b[0;34m+\u001b[0m\u001b[0;34m(\u001b[0m\u001b[0;36m12\u001b[0m\u001b[0;34m/\u001b[0m\u001b[0;36m13\u001b[0m\u001b[0;34m)\u001b[0m\u001b[0;34m*\u001b[0m\u001b[0mtau\u001b[0m\u001b[0;34m,\u001b[0m\u001b[0my\u001b[0m\u001b[0;34m+\u001b[0m\u001b[0;34m(\u001b[0m\u001b[0;36m1932\u001b[0m\u001b[0;34m/\u001b[0m\u001b[0;36m2197\u001b[0m\u001b[0;34m)\u001b[0m\u001b[0;34m*\u001b[0m\u001b[0mk1\u001b[0m\u001b[0;34m-\u001b[0m\u001b[0;34m(\u001b[0m\u001b[0;36m7200\u001b[0m\u001b[0;34m/\u001b[0m\u001b[0;36m2197\u001b[0m\u001b[0;34m)\u001b[0m\u001b[0;34m*\u001b[0m\u001b[0mk2\u001b[0m\u001b[0;34m+\u001b[0m\u001b[0;34m(\u001b[0m\u001b[0;36m7296\u001b[0m\u001b[0;34m/\u001b[0m\u001b[0;36m2197\u001b[0m\u001b[0;34m)\u001b[0m\u001b[0;34m*\u001b[0m\u001b[0mk3\u001b[0m\u001b[0;34m,\u001b[0m \u001b[0mp\u001b[0m\u001b[0;34m)\u001b[0m\u001b[0;34m\u001b[0m\u001b[0;34m\u001b[0m\u001b[0m\n",
      "\u001b[0;31mKeyboardInterrupt\u001b[0m: "
     ]
    }
   ],
   "source": [
    "approx = np.zeros(5)\n",
    "\n",
    "branches_search(len(approx) - 1, approx, step=0.01)"
   ]
  },
  {
   "cell_type": "code",
   "execution_count": 13,
   "metadata": {
    "colab": {
     "base_uri": "https://localhost:8080/"
    },
    "id": "in0mjqDv-QU0",
    "outputId": "5e1a7ca4-f9c1-466e-b32f-1fc778166789"
   },
   "outputs": [],
   "source": [
    "graph_nodes = np.array(graph_nodes)"
   ]
  },
  {
   "cell_type": "markdown",
   "metadata": {},
   "source": [
    "# Plots"
   ]
  },
  {
   "cell_type": "markdown",
   "metadata": {},
   "source": [
    "graph_nodes — это list, в котором хранятся вычисленные аппроксимации решения на каждом шаге метода пристрелки при поиске разных ветвей решений. Каждый элемент списка представляет собой массив numpy, представляющий текущее приближение решения на определенном шаге. Длина списка равна количеству шагов, пройденных при поиске ветки."
   ]
  },
  {
   "cell_type": "code",
   "execution_count": 24,
   "metadata": {},
   "outputs": [
    {
     "data": {
      "image/png": "[encoded data removed]",
      "text/plain": [
       "<Figure size 432x288 with 1 Axes>"
      ]
     },
     "metadata": {
      "needs_background": "light"
     },
     "output_type": "display_data"
    }
   ],
   "source": [
    "fig, ax = plt.subplots()\n",
    "\n",
    "for i in range(5):\n",
    "    ax.plot(graph_nodes[:, i])\n",
    "\n",
    "\n",
    "plt.grid(True)\n",
    "\n",
    "    \n",
    "plt.show()"
   ]
  },
  {
   "cell_type": "markdown",
   "metadata": {},
   "source": [
    "Each point on the blue line represents an approximation obtained during the iteration process in the parameter_move function, where the x-coordinate is the value of the u parameter and the y-coordinate is the corresponding value of the lambda parameter.\n",
    "\n",
    "The approximations converge to a fixed point, so the blue line will show a clear pattern of convergence towards that point. "
   ]
  },
  {
   "cell_type": "code",
   "execution_count": 15,
   "metadata": {
    "scrolled": false
   },
   "outputs": [
    {
     "data": {
      "image/png": "[encoded data removed]",
      "text/plain": [
       "<Figure size 720x576 with 1 Axes>"
      ]
     },
     "metadata": {
      "needs_background": "light"
     },
     "output_type": "display_data"
    }
   ],
   "source": [
    "last_approx = graph_nodes[-1]\n",
    "\n",
    "plt.figure(figsize=(10, 8))\n",
    "\n",
    "plt.plot(graph_nodes[:, 0], graph_nodes[:, -1], color='blue', linewidth=2)\n",
    "\n",
    "plt.plot([graph_nodes[0, 0], graph_nodes[-1, 0]], [last_approx[-1], last_approx[-1]], '--', color='black', linewidth=1)\n",
    "\n",
    "plt.xlabel('u', fontsize=14)\n",
    "plt.ylabel('lambda', fontsize=14)\n",
    "\n",
    "plt.grid(True)\n",
    "\n",
    "plt.show()"
   ]
  },
  {
   "cell_type": "code",
   "execution_count": 16,
   "metadata": {},
   "outputs": [
    {
     "data": {
      "text/plain": [
       "20"
      ]
     },
     "execution_count": 16,
     "metadata": {},
     "output_type": "execute_result"
    }
   ],
   "source": [
    "len(Frech_dets)"
   ]
  },
  {
   "cell_type": "code",
   "execution_count": 17,
   "metadata": {},
   "outputs": [
    {
     "data": {
      "text/plain": [
       "20"
      ]
     },
     "execution_count": 17,
     "metadata": {},
     "output_type": "execute_result"
    }
   ],
   "source": [
    "len(graph_nodes)"
   ]
  },
  {
   "cell_type": "code",
   "execution_count": 18,
   "metadata": {},
   "outputs": [],
   "source": [
    "Frech_dets = np.array(Frech_dets)"
   ]
  },
  {
   "cell_type": "code",
   "execution_count": 19,
   "metadata": {},
   "outputs": [
    {
     "data": {
      "image/png": "[encoded data removed]",
      "text/plain": [
       "<Figure size 864x576 with 4 Axes>"
      ]
     },
     "metadata": {
      "needs_background": "light"
     },
     "output_type": "display_data"
    }
   ],
   "source": [
    "fig, axs = plt.subplots(nrows=2, ncols=2, figsize=(12, 8))\n",
    "\n",
    "axs[0, 1].plot(graph_nodes[np.argsort(graph_nodes[:, 1])][:, 1], Frech_dets[np.argsort(graph_nodes[:, 1])])\n",
    "axs[0, 1].set_title('Graph Nodes vs. French Dets')\n",
    "\n",
    "axs[0, 0].plot(graph_nodes[np.argsort(graph_nodes[:, 0])][:, 0], Frech_dets[np.argsort(graph_nodes[:, 0])])\n",
    "axs[0, 0].set_title('Graph Nodes vs. French Dets')\n",
    "\n",
    "axs[1, 0].plot(graph_nodes[np.argsort(graph_nodes[:, 2])][:, 2], Frech_dets[np.argsort(graph_nodes[:, 2])])\n",
    "axs[1, 0].set_title('Graph Nodes vs. French Dets')\n",
    "\n",
    "axs[1, 1].plot(graph_nodes[np.argsort(graph_nodes[:, 3])][:, 3], Frech_dets[np.argsort(graph_nodes[:, 3])])\n",
    "axs[1, 1].set_title('Graph Nodes vs. French Dets')\n",
    "\n",
    "plt.show()"
   ]
  },
  {
   "cell_type": "code",
   "execution_count": 20,
   "metadata": {
    "id": "Wnj7APfc4kfQ"
   },
   "outputs": [],
   "source": [
    "eigenvals = np.array(eigenvals)"
   ]
  },
  {
   "cell_type": "code",
   "execution_count": 21,
   "metadata": {},
   "outputs": [
    {
     "data": {
      "text/plain": [
       "20"
      ]
     },
     "execution_count": 21,
     "metadata": {},
     "output_type": "execute_result"
    }
   ],
   "source": [
    "len(graph_nodes[:,0])"
   ]
  },
  {
   "cell_type": "code",
   "execution_count": 22,
   "metadata": {},
   "outputs": [
    {
     "data": {
      "text/plain": [
       "20"
      ]
     },
     "execution_count": 22,
     "metadata": {},
     "output_type": "execute_result"
    }
   ],
   "source": [
    "len(eigenvals)"
   ]
  },
  {
   "cell_type": "code",
   "execution_count": null,
   "metadata": {
    "colab": {
     "base_uri": "https://localhost:8080/",
     "height": 482
    },
    "id": "1QcGE-RpA9Ul",
    "outputId": "16452819-1b4e-43ab-85ca-49b707aaba6d"
   },
   "outputs": [],
   "source": [
    "plt.plot(graph_nodes[:,0], eigenvals[:,0])\n",
    "plt.plot(graph_nodes[:,0], eigenvals[:,1])"
   ]
  },
  {
   "cell_type": "code",
   "execution_count": null,
   "metadata": {},
   "outputs": [],
   "source": []
  }
 ],
 "metadata": {
  "colab": {
   "provenance": []
  },
  "kernelspec": {
   "display_name": "Python 3",
   "language": "python",
   "name": "python3"
  },
  "language_info": {
   "codemirror_mode": {
    "name": "ipython",
    "version": 3
   },
   "file_extension": ".py",
   "mimetype": "text/x-python",
   "name": "python",
   "nbconvert_exporter": "python",
   "pygments_lexer": "ipython3",
   "version": "3.8.10"
  }
 },
 "nbformat": 4,
 "nbformat_minor": 1
}
